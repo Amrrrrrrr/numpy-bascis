{
 "cells": [
  {
   "cell_type": "code",
   "execution_count": 1,
   "id": "3f9ec724",
   "metadata": {
    "ExecuteTime": {
     "end_time": "2024-03-06T08:32:51.334534Z",
     "start_time": "2024-03-06T08:32:51.330973Z"
    }
   },
   "outputs": [],
   "source": [
    "import numpy as np\n"
   ]
  },
  {
   "cell_type": "code",
   "execution_count": 5,
   "id": "0866f82d",
   "metadata": {
    "ExecuteTime": {
     "end_time": "2024-03-06T08:36:03.094008Z",
     "start_time": "2024-03-06T08:36:03.087775Z"
    }
   },
   "outputs": [
    {
     "name": "stdout",
     "output_type": "stream",
     "text": [
      "float32\n",
      "1.0\n",
      "2.2\n",
      "5.0\n"
     ]
    }
   ],
   "source": [
    "arr=np.array([\"1\",\"2.2\",\"5\"],dtype=\"float32\")\n",
    "print(arr.dtype)\n",
    "for i in arr:\n",
    "    print(i)"
   ]
  },
  {
   "cell_type": "code",
   "execution_count": 10,
   "id": "1c13b648",
   "metadata": {
    "ExecuteTime": {
     "end_time": "2024-03-06T08:38:29.944386Z",
     "start_time": "2024-03-06T08:38:29.936712Z"
    }
   },
   "outputs": [
    {
     "data": {
      "text/plain": [
       "array([1, 2, 5], dtype=int16)"
      ]
     },
     "execution_count": 10,
     "metadata": {},
     "output_type": "execute_result"
    }
   ],
   "source": [
    "arr=np.array([\"1\",\"2\",\"5\"],dtype=\"float\")\n",
    "arr=arr.astype(\"int16\")\n",
    "arr\n"
   ]
  },
  {
   "cell_type": "code",
   "execution_count": 17,
   "id": "cc7bc78c",
   "metadata": {
    "ExecuteTime": {
     "end_time": "2024-03-06T09:44:30.085570Z",
     "start_time": "2024-03-06T09:44:30.079938Z"
    }
   },
   "outputs": [
    {
     "data": {
      "text/plain": [
       "<function ndarray.item>"
      ]
     },
     "execution_count": 17,
     "metadata": {},
     "output_type": "execute_result"
    }
   ],
   "source": [
    "arr1=np.array([ [1,2,5], [7,8,9]], dtype=\"int\")\n",
    "arr1.shape\n",
    "arr1.size\n",
    "np.info\n",
    "arr1.item\n"
   ]
  },
  {
   "cell_type": "code",
   "execution_count": 21,
   "id": "476a88f5",
   "metadata": {
    "ExecuteTime": {
     "end_time": "2024-03-06T09:47:03.009065Z",
     "start_time": "2024-03-06T09:47:03.001110Z"
    }
   },
   "outputs": [
    {
     "data": {
      "text/plain": [
       "0.7124033118359681"
      ]
     },
     "execution_count": 21,
     "metadata": {},
     "output_type": "execute_result"
    }
   ],
   "source": [
    "np.random.rand()"
   ]
  },
  {
   "cell_type": "code",
   "execution_count": 25,
   "id": "ac08b094",
   "metadata": {
    "ExecuteTime": {
     "end_time": "2024-03-06T09:48:57.052807Z",
     "start_time": "2024-03-06T09:48:57.048500Z"
    }
   },
   "outputs": [
    {
     "data": {
      "text/plain": [
       "0.9600173033359185"
      ]
     },
     "execution_count": 25,
     "metadata": {},
     "output_type": "execute_result"
    }
   ],
   "source": [
    "np.random.seed(24)\n",
    "np.random.rand()\n"
   ]
  },
  {
   "cell_type": "code",
   "execution_count": 26,
   "id": "70bb4157",
   "metadata": {
    "ExecuteTime": {
     "end_time": "2024-03-06T11:27:04.215169Z",
     "start_time": "2024-03-06T11:27:04.204015Z"
    }
   },
   "outputs": [],
   "source": [
    "#### 1. Import the numpy package under the name `np` (★☆☆)\n",
    "import numpy as np"
   ]
  },
  {
   "cell_type": "code",
   "execution_count": 27,
   "id": "be1f1866",
   "metadata": {
    "ExecuteTime": {
     "end_time": "2024-03-06T11:28:51.167791Z",
     "start_time": "2024-03-06T11:28:50.981887Z"
    }
   },
   "outputs": [
    {
     "name": "stdout",
     "output_type": "stream",
     "text": [
      "NumPy version: 1.24.3\n",
      "\n",
      "NumPy configuration:\n",
      "blas_armpl_info:\n",
      "  NOT AVAILABLE\n",
      "blas_mkl_info:\n",
      "    libraries = ['mkl_rt']\n",
      "    library_dirs = ['C:/Users/Amr chetos/anaconda3\\\\Library\\\\lib']\n",
      "    define_macros = [('SCIPY_MKL_H', None), ('HAVE_CBLAS', None)]\n",
      "    include_dirs = ['C:/Users/Amr chetos/anaconda3\\\\Library\\\\include']\n",
      "blas_opt_info:\n",
      "    libraries = ['mkl_rt']\n",
      "    library_dirs = ['C:/Users/Amr chetos/anaconda3\\\\Library\\\\lib']\n",
      "    define_macros = [('SCIPY_MKL_H', None), ('HAVE_CBLAS', None)]\n",
      "    include_dirs = ['C:/Users/Amr chetos/anaconda3\\\\Library\\\\include']\n",
      "lapack_armpl_info:\n",
      "  NOT AVAILABLE\n",
      "lapack_mkl_info:\n",
      "    libraries = ['mkl_rt']\n",
      "    library_dirs = ['C:/Users/Amr chetos/anaconda3\\\\Library\\\\lib']\n",
      "    define_macros = [('SCIPY_MKL_H', None), ('HAVE_CBLAS', None)]\n",
      "    include_dirs = ['C:/Users/Amr chetos/anaconda3\\\\Library\\\\include']\n",
      "lapack_opt_info:\n",
      "    libraries = ['mkl_rt']\n",
      "    library_dirs = ['C:/Users/Amr chetos/anaconda3\\\\Library\\\\lib']\n",
      "    define_macros = [('SCIPY_MKL_H', None), ('HAVE_CBLAS', None)]\n",
      "    include_dirs = ['C:/Users/Amr chetos/anaconda3\\\\Library\\\\include']\n",
      "Supported SIMD extensions in this NumPy install:\n",
      "    baseline = SSE,SSE2,SSE3\n",
      "    found = SSSE3,SSE41,POPCNT,SSE42,AVX,F16C,FMA3,AVX2\n",
      "    not found = AVX512F,AVX512CD,AVX512_SKX,AVX512_CLX,AVX512_CNL,AVX512_ICL\n",
      "None\n"
     ]
    }
   ],
   "source": [
    "#### 2. Print the numpy version and the configuration (★☆☆)\n",
    "import numpy as np\n",
    "print(\"NumPy version:\", np.__version__)\n",
    "print(\"\\nNumPy configuration:\")\n",
    "print(np.show_config())\n"
   ]
  },
  {
   "cell_type": "code",
   "execution_count": 28,
   "id": "e529a4dc",
   "metadata": {
    "ExecuteTime": {
     "end_time": "2024-03-06T11:31:03.202332Z",
     "start_time": "2024-03-06T11:31:03.054168Z"
    }
   },
   "outputs": [
    {
     "name": "stdout",
     "output_type": "stream",
     "text": [
      "[0. 0. 0. 0. 0. 0. 0. 0. 0. 0.]\n"
     ]
    }
   ],
   "source": [
    "#### 3. Create a null vector of size 10 (★☆☆)\n",
    "vector= np.zeros(10)\n",
    "print (vector)"
   ]
  },
  {
   "cell_type": "code",
   "execution_count": 37,
   "id": "98b5b8b1",
   "metadata": {
    "ExecuteTime": {
     "end_time": "2024-03-06T11:35:37.774217Z",
     "start_time": "2024-03-06T11:35:37.637727Z"
    }
   },
   "outputs": [
    {
     "name": "stdout",
     "output_type": "stream",
     "text": [
      "24 bytes\n"
     ]
    }
   ],
   "source": [
    "#### 4. How to find the memory size of any array (★☆☆)\n",
    "arr1 = np.array([[1, 2, 5], [7, 8, 9]], dtype=\"i4\")\n",
    "memorysize = arr1.nbytes\n",
    "\n",
    "print( memorysize, \"bytes\")"
   ]
  },
  {
   "cell_type": "code",
   "execution_count": 40,
   "id": "35497793",
   "metadata": {
    "ExecuteTime": {
     "end_time": "2024-03-06T11:38:20.390016Z",
     "start_time": "2024-03-06T11:38:20.189136Z"
    }
   },
   "outputs": [
    {
     "name": "stdout",
     "output_type": "stream",
     "text": [
      "add(x1, x2, /, out=None, *, where=True, casting='same_kind', order='K', dtype=None, subok=True[, signature, extobj])\n",
      "\n",
      "Add arguments element-wise.\n",
      "\n",
      "Parameters\n",
      "----------\n",
      "x1, x2 : array_like\n",
      "    The arrays to be added.\n",
      "    If ``x1.shape != x2.shape``, they must be broadcastable to a common\n",
      "    shape (which becomes the shape of the output).\n",
      "out : ndarray, None, or tuple of ndarray and None, optional\n",
      "    A location into which the result is stored. If provided, it must have\n",
      "    a shape that the inputs broadcast to. If not provided or None,\n",
      "    a freshly-allocated array is returned. A tuple (possible only as a\n",
      "    keyword argument) must have length equal to the number of outputs.\n",
      "where : array_like, optional\n",
      "    This condition is broadcast over the input. At locations where the\n",
      "    condition is True, the `out` array will be set to the ufunc result.\n",
      "    Elsewhere, the `out` array will retain its original value.\n",
      "    Note that if an uninitialized `out` array is created via the default\n",
      "    ``out=None``, locations within it where the condition is False will\n",
      "    remain uninitialized.\n",
      "**kwargs\n",
      "    For other keyword-only arguments, see the\n",
      "    :ref:`ufunc docs <ufuncs.kwargs>`.\n",
      "\n",
      "Returns\n",
      "-------\n",
      "add : ndarray or scalar\n",
      "    The sum of `x1` and `x2`, element-wise.\n",
      "    This is a scalar if both `x1` and `x2` are scalars.\n",
      "\n",
      "Notes\n",
      "-----\n",
      "Equivalent to `x1` + `x2` in terms of array broadcasting.\n",
      "\n",
      "Examples\n",
      "--------\n",
      ">>> np.add(1.0, 4.0)\n",
      "5.0\n",
      ">>> x1 = np.arange(9.0).reshape((3, 3))\n",
      ">>> x2 = np.arange(3.0)\n",
      ">>> np.add(x1, x2)\n",
      "array([[  0.,   2.,   4.],\n",
      "       [  3.,   5.,   7.],\n",
      "       [  6.,   8.,  10.]])\n",
      "\n",
      "The ``+`` operator can be used as a shorthand for ``np.add`` on ndarrays.\n",
      "\n",
      ">>> x1 = np.arange(9.0).reshape((3, 3))\n",
      ">>> x2 = np.arange(3.0)\n",
      ">>> x1 + x2\n",
      "array([[ 0.,  2.,  4.],\n",
      "       [ 3.,  5.,  7.],\n",
      "       [ 6.,  8., 10.]])\n",
      "None\n"
     ]
    }
   ],
   "source": [
    "#### 5. How to get the documentation of the numpy add function from the command line? \n",
    "print(np.info(np.add))\n"
   ]
  },
  {
   "cell_type": "code",
   "execution_count": 43,
   "id": "52410345",
   "metadata": {
    "ExecuteTime": {
     "end_time": "2024-03-06T11:40:33.959898Z",
     "start_time": "2024-03-06T11:40:33.828378Z"
    }
   },
   "outputs": [
    {
     "data": {
      "text/plain": [
       "array([0., 0., 0., 0., 1., 0., 0., 0., 0., 0.])"
      ]
     },
     "execution_count": 43,
     "metadata": {},
     "output_type": "execute_result"
    }
   ],
   "source": [
    "#### 6. Create a null vector of size 10 but the fifth value which is 1 (★☆☆)\n",
    "vectoros=np.zeros(10)\n",
    "vectoros[4]=1\n",
    "vectoros"
   ]
  },
  {
   "cell_type": "code",
   "execution_count": 46,
   "id": "e98d4e15",
   "metadata": {
    "ExecuteTime": {
     "end_time": "2024-03-06T11:42:30.638716Z",
     "start_time": "2024-03-06T11:42:30.590053Z"
    }
   },
   "outputs": [
    {
     "data": {
      "text/plain": [
       "array([10, 11, 12, 13, 14, 15, 16, 17, 18, 19, 20, 21, 22, 23, 24, 25, 26,\n",
       "       27, 28, 29, 30, 31, 32, 33, 34, 35, 36, 37, 38, 39, 40, 41, 42, 43,\n",
       "       44, 45, 46, 47, 48, 49])"
      ]
     },
     "execution_count": 46,
     "metadata": {},
     "output_type": "execute_result"
    }
   ],
   "source": [
    "#### 7. Create a vector with values ranging from 10 to 49 (★☆☆)\n",
    "vector=np.arange(10,50)\n",
    "vector"
   ]
  },
  {
   "cell_type": "code",
   "execution_count": 48,
   "id": "f27b5cbb",
   "metadata": {
    "ExecuteTime": {
     "end_time": "2024-03-06T11:44:14.575166Z",
     "start_time": "2024-03-06T11:44:14.552279Z"
    }
   },
   "outputs": [
    {
     "data": {
      "text/plain": [
       "array([15, 14, 13, 12, 11, 10,  9,  8,  7,  6,  5,  4,  3,  2,  1])"
      ]
     },
     "execution_count": 48,
     "metadata": {},
     "output_type": "execute_result"
    }
   ],
   "source": [
    "#### 8. Reverse a vector (first element becomes last) (★☆☆)\n",
    "v=np.arange(1,16)\n",
    "v[::-1]"
   ]
  },
  {
   "cell_type": "code",
   "execution_count": 54,
   "id": "fb3f6590",
   "metadata": {
    "ExecuteTime": {
     "end_time": "2024-03-06T11:47:31.383865Z",
     "start_time": "2024-03-06T11:47:31.360686Z"
    }
   },
   "outputs": [
    {
     "name": "stdout",
     "output_type": "stream",
     "text": [
      "[[0 1 2]\n",
      " [3 4 5]\n",
      " [5 6 7]]\n",
      "[[0 1 2]\n",
      " [3 4 5]\n",
      " [6 7 8]]\n"
     ]
    }
   ],
   "source": [
    "#### 9. Create a 3x3 matrix with values ranging from 0 to 8 (★☆☆)\n",
    "arr=np.array ([[0,1,2],[3,4,5],[5,6,7]])\n",
    "print (arr)\n",
    "matrix = np.arange(9).reshape(3, 3)\n",
    "print(matrix)"
   ]
  },
  {
   "cell_type": "code",
   "execution_count": 63,
   "id": "5e5253f5",
   "metadata": {
    "ExecuteTime": {
     "end_time": "2024-03-06T11:51:36.244597Z",
     "start_time": "2024-03-06T11:51:36.230913Z"
    }
   },
   "outputs": [
    {
     "name": "stdout",
     "output_type": "stream",
     "text": [
      "(array([0, 1, 4], dtype=int64),)\n"
     ]
    }
   ],
   "source": [
    "#### 10. Find indices of non-zero elements from [1,2,0,0,4,0] (★☆☆)\n",
    "arr = np.array([1, 2, 0, 0, 4, 0])\n",
    "nonzero_indices = np.nonzero(arr)\n",
    "print ( nonzero_indices)"
   ]
  },
  {
   "cell_type": "code",
   "execution_count": 64,
   "id": "fd0e50fe",
   "metadata": {
    "ExecuteTime": {
     "end_time": "2024-03-06T11:52:51.147287Z",
     "start_time": "2024-03-06T11:52:51.121095Z"
    }
   },
   "outputs": [
    {
     "data": {
      "text/plain": [
       "array([[1., 0., 0.],\n",
       "       [0., 1., 0.],\n",
       "       [0., 0., 1.]])"
      ]
     },
     "execution_count": 64,
     "metadata": {},
     "output_type": "execute_result"
    }
   ],
   "source": [
    "#### 11. Create a 3x3 identity matrix (★☆☆)\n",
    "mat=np.eye(3)\n",
    "mat"
   ]
  },
  {
   "cell_type": "code",
   "execution_count": 65,
   "id": "342fe83b",
   "metadata": {
    "ExecuteTime": {
     "end_time": "2024-03-06T11:54:45.027728Z",
     "start_time": "2024-03-06T11:54:45.009034Z"
    }
   },
   "outputs": [
    {
     "data": {
      "text/plain": [
       "array([[[0.69951205, 0.99986729, 0.2200673 ],\n",
       "        [0.36105635, 0.73984099, 0.99645573],\n",
       "        [0.31634698, 0.13654458, 0.38398001]],\n",
       "\n",
       "       [[0.32051928, 0.36641475, 0.70965156],\n",
       "        [0.90014243, 0.53411544, 0.24729376],\n",
       "        [0.67180656, 0.56172911, 0.54255988]],\n",
       "\n",
       "       [[0.8934476 , 0.84277955, 0.30601259],\n",
       "        [0.63116978, 0.68023886, 0.97042756],\n",
       "        [0.89356715, 0.94242586, 0.64222548]]])"
      ]
     },
     "execution_count": 65,
     "metadata": {},
     "output_type": "execute_result"
    }
   ],
   "source": [
    "#### 12. Create a 3x3x3 array with random values (★☆☆)\n",
    "arr=np.random.rand(3,3,3)\n",
    "arr"
   ]
  },
  {
   "cell_type": "code",
   "execution_count": 70,
   "id": "d95a213d",
   "metadata": {
    "ExecuteTime": {
     "end_time": "2024-03-06T11:58:14.509204Z",
     "start_time": "2024-03-06T11:58:14.488294Z"
    }
   },
   "outputs": [
    {
     "name": "stdout",
     "output_type": "stream",
     "text": [
      "[[0.91909185 0.87744634 0.96165655 0.32942488 0.68643865 0.34579609\n",
      "  0.45485347 0.53094214 0.19525427 0.06951846]\n",
      " [0.15901162 0.46617287 0.61941935 0.29189952 0.10718345 0.24330193\n",
      "  0.99673768 0.2283235  0.22705984 0.86951035]\n",
      " [0.42016592 0.24999281 0.49009648 0.84114839 0.36925679 0.92421956\n",
      "  0.99469229 0.67908565 0.40130511 0.38463964]\n",
      " [0.77664223 0.8362346  0.00804908 0.35603383 0.58146495 0.6432627\n",
      "  0.8528689  0.47001505 0.46055918 0.38771978]\n",
      " [0.38761885 0.46936416 0.14160674 0.51198845 0.91123929 0.44369225\n",
      "  0.01934165 0.18345392 0.33177861 0.17617143]\n",
      " [0.23704825 0.64087291 0.48507762 0.83296729 0.45256802 0.26550269\n",
      "  0.32071404 0.70507318 0.26539995 0.78524858]\n",
      " [0.87905181 0.0267808  0.02730316 0.01031339 0.92751079 0.04548879\n",
      "  0.53025406 0.11572938 0.30842843 0.72395218]\n",
      " [0.5574466  0.27830423 0.68308332 0.8930561  0.41729933 0.92504363\n",
      "  0.29577162 0.12073912 0.45390769 0.76893908]\n",
      " [0.93816299 0.63546394 0.98587876 0.20362429 0.28969192 0.74246391\n",
      "  0.12690526 0.33326395 0.48231998 0.77021879]\n",
      " [0.16322819 0.94038063 0.81508387 0.3618031  0.87194419 0.21059268\n",
      "  0.60523085 0.63547643 0.91693483 0.14940091]]\n",
      "max: 0.9967376800786426\n",
      "min: 0.00804907670548094\n"
     ]
    }
   ],
   "source": [
    "#### 13. Create a 10x10 array with random values and find the minimum and maximum values (★☆☆)\n",
    "\n",
    "\n",
    "maxx=np.max(arr)\n",
    "minn=np.min(arr)\n",
    "print (\"max:\",maxx)\n",
    "print (\"min:\",minn)\n"
   ]
  },
  {
   "cell_type": "code",
   "execution_count": 75,
   "id": "73a6ec8c",
   "metadata": {
    "ExecuteTime": {
     "end_time": "2024-03-06T12:05:16.942929Z",
     "start_time": "2024-03-06T12:05:16.788263Z"
    }
   },
   "outputs": [
    {
     "name": "stdout",
     "output_type": "stream",
     "text": [
      "[0.46481713 0.561117   0.4993035  0.27774183 0.29678412 0.65078153\n",
      " 0.75907282 0.08776627 0.30711411 0.98189961 0.93732725 0.5045578\n",
      " 0.99291138 0.9961864  0.53060056 0.68017036 0.74364871 0.49287333\n",
      " 0.39878297 0.79498449 0.95997928 0.60362413 0.0477228  0.1097562\n",
      " 0.63082478 0.70525432 0.95221783 0.39021181 0.38913301 0.11736418]\n",
      "0.5621509843196837\n"
     ]
    }
   ],
   "source": [
    "#### 14. Create a random vector of size 30 and find the mean value (★☆☆)\n",
    "arr=np.random.rand(30)\n",
    "print(arr)\n",
    "x=np.mean(arr) \n",
    "print(x)\n"
   ]
  },
  {
   "cell_type": "code",
   "execution_count": 77,
   "id": "22a17f95",
   "metadata": {
    "ExecuteTime": {
     "end_time": "2024-03-06T12:10:48.041697Z",
     "start_time": "2024-03-06T12:10:48.026132Z"
    }
   },
   "outputs": [
    {
     "data": {
      "text/plain": [
       "array([[1., 1., 1., 1., 1.],\n",
       "       [1., 0., 0., 0., 1.],\n",
       "       [1., 0., 0., 0., 1.],\n",
       "       [1., 0., 0., 0., 1.],\n",
       "       [1., 1., 1., 1., 1.]])"
      ]
     },
     "execution_count": 77,
     "metadata": {},
     "output_type": "execute_result"
    }
   ],
   "source": [
    "#### 15. Create a 2d array with 1 on the border and 0 inside (★☆☆)\n",
    "arr=np.ones((5,5))\n",
    "arr[1:-1, 1:-1] = 0\n",
    "arr"
   ]
  },
  {
   "cell_type": "code",
   "execution_count": 79,
   "id": "7e5ba0ec",
   "metadata": {
    "ExecuteTime": {
     "end_time": "2024-03-06T19:03:12.366539Z",
     "start_time": "2024-03-06T19:03:12.362264Z"
    }
   },
   "outputs": [
    {
     "name": "stdout",
     "output_type": "stream",
     "text": [
      "[[0. 0. 0. 0. 0.]\n",
      " [0. 1. 1. 1. 0.]\n",
      " [0. 1. 1. 1. 0.]\n",
      " [0. 1. 1. 1. 0.]\n",
      " [0. 0. 0. 0. 0.]]\n"
     ]
    }
   ],
   "source": [
    "#### 16. How to add a border (filled with 0's) around an existing array? (★☆☆)\n",
    "\n",
    "arr2 = np.ones((3, 3))\n",
    "arrborder = np.pad(arr2, pad_width=1, mode='constant', constant_values=0)\n",
    "\n",
    "print(arrborder)\n"
   ]
  },
  {
   "cell_type": "code",
   "execution_count": 87,
   "id": "a3695193",
   "metadata": {
    "ExecuteTime": {
     "end_time": "2024-03-06T19:09:12.853090Z",
     "start_time": "2024-03-06T19:09:12.846286Z"
    }
   },
   "outputs": [
    {
     "name": "stdout",
     "output_type": "stream",
     "text": [
      "nan\n",
      "False\n",
      "False\n",
      "nan\n",
      "True\n"
     ]
    },
    {
     "data": {
      "text/plain": [
       "False"
      ]
     },
     "execution_count": 87,
     "metadata": {},
     "output_type": "execute_result"
    }
   ],
   "source": [
    "#### 17. What is the result of the following expression? (★☆☆)\n",
    "x=0 * np.nan\n",
    "print(x)\n",
    "y=np.nan == np.nan\n",
    "print(y)\n",
    "z=np.inf > np.nan\n",
    "print(z)\n",
    "\n",
    "l=np.nan - np.nan\n",
    "print(l)\n",
    "\n",
    "n=np.nan in set([np.nan])\n",
    "print(n)\n",
    "\n",
    "0.3 == 3 * 0.1\n",
    "\n"
   ]
  },
  {
   "cell_type": "code",
   "execution_count": 95,
   "id": "117c4f6a",
   "metadata": {
    "ExecuteTime": {
     "end_time": "2024-03-06T19:14:48.481385Z",
     "start_time": "2024-03-06T19:14:48.475609Z"
    }
   },
   "outputs": [
    {
     "data": {
      "text/plain": [
       "array([[0., 0., 0., 0., 0.],\n",
       "       [1., 0., 0., 0., 0.],\n",
       "       [0., 2., 0., 0., 0.],\n",
       "       [0., 0., 3., 0., 0.],\n",
       "       [0., 0., 0., 4., 0.]])"
      ]
     },
     "execution_count": 95,
     "metadata": {},
     "output_type": "execute_result"
    }
   ],
   "source": [
    "#### 18. Create a 5x5 matrix with values 1,2,3,4 just below the diagonal (★☆☆)\n",
    "arr=np.zeros((5,5))\n",
    "np.fill_diagonal(arr[1:],[1,2,3,4])\n",
    "arr"
   ]
  },
  {
   "cell_type": "code",
   "execution_count": 96,
   "id": "24232701",
   "metadata": {
    "ExecuteTime": {
     "end_time": "2024-03-06T19:20:13.253217Z",
     "start_time": "2024-03-06T19:20:13.247665Z"
    }
   },
   "outputs": [
    {
     "data": {
      "text/plain": [
       "array([[0, 0, 0, 0, 0, 0, 0, 0],\n",
       "       [1, 0, 1, 0, 1, 0, 1, 0],\n",
       "       [1, 0, 1, 0, 1, 0, 1, 0],\n",
       "       [1, 0, 1, 0, 1, 0, 1, 0],\n",
       "       [1, 0, 1, 0, 1, 0, 1, 0],\n",
       "       [1, 0, 1, 0, 1, 0, 1, 0],\n",
       "       [1, 0, 1, 0, 1, 0, 1, 0],\n",
       "       [1, 0, 1, 0, 1, 0, 1, 0]])"
      ]
     },
     "execution_count": 96,
     "metadata": {},
     "output_type": "execute_result"
    }
   ],
   "source": [
    "#### 19. Create a 8x8 matrix and fill it with a checkerboard pattern (★☆☆)\n",
    "arr=np.zeros((8,8),dtype=int)\n",
    "arr[1::2,::2]=1\n",
    "arr[2::1,::2]=1\n",
    "arr\n",
    "\n",
    "\n"
   ]
  },
  {
   "cell_type": "code",
   "execution_count": 105,
   "id": "76335ea5",
   "metadata": {
    "ExecuteTime": {
     "end_time": "2024-03-06T20:20:50.439952Z",
     "start_time": "2024-03-06T20:20:50.422941Z"
    }
   },
   "outputs": [
    {
     "name": "stdout",
     "output_type": "stream",
     "text": [
      "1\n",
      "5\n",
      "4\n"
     ]
    }
   ],
   "source": [
    "#### 20. Consider a (6,7,8) shape array, what is the index (x,y,z) of the 100th element? (★☆☆)\n",
    "\n",
    "\n",
    "x = 100 // (7 * 8) \n",
    "print (x)\n",
    "y=(100%(7*8))//8\n",
    "print(y)\n",
    "z=100%8\n",
    "print(z)"
   ]
  },
  {
   "cell_type": "code",
   "execution_count": 108,
   "id": "2ce9f227",
   "metadata": {
    "ExecuteTime": {
     "end_time": "2024-03-06T20:29:10.463345Z",
     "start_time": "2024-03-06T20:29:10.438641Z"
    }
   },
   "outputs": [
    {
     "data": {
      "text/plain": [
       "array([[1, 2, 1, 2, 1, 2, 1, 2],\n",
       "       [2, 1, 2, 1, 2, 1, 2, 1],\n",
       "       [1, 2, 1, 2, 1, 2, 1, 2],\n",
       "       [2, 1, 2, 1, 2, 1, 2, 1],\n",
       "       [1, 2, 1, 2, 1, 2, 1, 2],\n",
       "       [2, 1, 2, 1, 2, 1, 2, 1],\n",
       "       [1, 2, 1, 2, 1, 2, 1, 2],\n",
       "       [2, 1, 2, 1, 2, 1, 2, 1]])"
      ]
     },
     "execution_count": 108,
     "metadata": {},
     "output_type": "execute_result"
    }
   ],
   "source": [
    "#### 21. Create a checkerboard 8x8 matrix using the tile function (★☆☆)\n",
    "arr=np.array([[1,2],[2,1]])\n",
    "check=np.tile(arr,(4,4))\n",
    "check"
   ]
  },
  {
   "cell_type": "code",
   "execution_count": 113,
   "id": "6c8d8d45",
   "metadata": {
    "ExecuteTime": {
     "end_time": "2024-03-06T20:35:17.360538Z",
     "start_time": "2024-03-06T20:35:17.340905Z"
    }
   },
   "outputs": [
    {
     "name": "stdout",
     "output_type": "stream",
     "text": [
      "[[0.43291537 0.44958979 0.57167383 0.54785835 0.85452577]\n",
      " [0.69840886 0.34667343 0.17234925 0.36166467 0.98008551]\n",
      " [0.18626078 0.33396672 0.69139653 0.30101896 0.7677107 ]\n",
      " [0.71849972 0.90514647 0.99264684 0.70983706 0.65331336]\n",
      " [0.79190437 0.32096157 0.98004289 0.00855998 0.53876216]]\n",
      "after normalize: [[-1.69239758 -1.67572316 -1.55363913 -1.57745461 -1.27078719]\n",
      " [-1.4269041  -1.77863952 -1.95296371 -1.76364829 -1.14522745]\n",
      " [-1.93905217 -1.79134623 -1.43391642 -1.82429399 -1.35760225]\n",
      " [-1.40681323 -1.22016648 -1.13266612 -1.4154759  -1.4719996 ]\n",
      " [-1.33340859 -1.80435139 -1.14527007 -2.11675297 -1.5865508 ]]\n"
     ]
    }
   ],
   "source": [
    "#### 22. Normalize a 5x5 random matrix (★☆☆)\n",
    "arr=np.random.rand(5,5)\n",
    "print(arr)\n",
    "normalize=(arr-np.mean(arr)/np.std(arr))\n",
    "print(\"after normalize:\",normalize)"
   ]
  },
  {
   "cell_type": "code",
   "execution_count": 114,
   "id": "4f0e471e",
   "metadata": {
    "ExecuteTime": {
     "end_time": "2024-03-06T20:53:48.889226Z",
     "start_time": "2024-03-06T20:53:48.869248Z"
    }
   },
   "outputs": [
    {
     "name": "stdout",
     "output_type": "stream",
     "text": [
      "RGBA Color:\n",
      "(255, 127, 64, 255)\n"
     ]
    }
   ],
   "source": [
    "#### 23. Create a custom dtype that describes a color as four unsigned bytes (RGBA) (★☆☆)\n",
    "import numpy as np\n",
    "\n",
    "# Define the custom dtype for RGBA color\n",
    "rgba_dtype = np.dtype([('R', np.uint8),    # Red channel (0-255)\n",
    "                       ('G', np.uint8),    # Green channel (0-255)\n",
    "                       ('B', np.uint8),    # Blue channel (0-255)\n",
    "                       ('A', np.uint8)])   # Alpha channel (transparency, 0-255)\n",
    "9\n",
    "# Create an example color using the custom dtype\n",
    "color = np.array((255, 127, 64, 255), dtype=rgba_dtype)\n",
    "\n",
    "print(\"RGBA Color:\")\n",
    "print(color)"
   ]
  },
  {
   "cell_type": "code",
   "execution_count": 117,
   "id": "0d978699",
   "metadata": {
    "ExecuteTime": {
     "end_time": "2024-03-06T20:57:36.211128Z",
     "start_time": "2024-03-06T20:57:36.198989Z"
    }
   },
   "outputs": [
    {
     "name": "stdout",
     "output_type": "stream",
     "text": [
      "[[1.14885022 1.57300616]\n",
      " [0.64162158 1.11672053]\n",
      " [0.77113752 1.1409988 ]\n",
      " [0.46049494 0.84300258]\n",
      " [0.99141413 1.1751746 ]]\n"
     ]
    }
   ],
   "source": [
    "#### 24. Multiply a 5x3 matrix by a 3x2 matrix (real matrix product) (★☆☆)\n",
    "arr1=np.random.rand(5,3)\n",
    "arr2=np.random.rand(3,2)\n",
    "res=np.dot(arr1,arr2)\n",
    "print(res)\n",
    "\n"
   ]
  },
  {
   "cell_type": "code",
   "execution_count": 121,
   "id": "e5e5ed32",
   "metadata": {
    "ExecuteTime": {
     "end_time": "2024-03-06T21:02:48.122499Z",
     "start_time": "2024-03-06T21:02:48.101880Z"
    }
   },
   "outputs": [
    {
     "data": {
      "text/plain": [
       "array([ 1,  2,  3, -4, -5])"
      ]
     },
     "execution_count": 121,
     "metadata": {},
     "output_type": "execute_result"
    }
   ],
   "source": [
    "#### 25. Given a 1D array, negate all elements which are between 3 and 8, in place. (★☆☆)\n",
    "arr=np.array([1,2,3,4,5])\n",
    "arr[(arr>3)&(arr<8)]*=-1\n",
    "arr\n"
   ]
  },
  {
   "cell_type": "code",
   "execution_count": 124,
   "id": "5167e912",
   "metadata": {
    "ExecuteTime": {
     "end_time": "2024-03-06T21:03:58.338484Z",
     "start_time": "2024-03-06T21:03:58.324071Z"
    }
   },
   "outputs": [
    {
     "name": "stdout",
     "output_type": "stream",
     "text": [
      "9\n",
      "9\n"
     ]
    }
   ],
   "source": [
    "#### 26. What is the output of the following script? (★☆☆)\n",
    "# Author: Jake VanderPlas\n",
    "print(sum(range(5),-1))\n",
    "print(sum(range(5),-1))\n"
   ]
  },
  {
   "cell_type": "code",
   "execution_count": 126,
   "id": "d7145954",
   "metadata": {
    "ExecuteTime": {
     "end_time": "2024-03-06T21:10:36.523798Z",
     "start_time": "2024-03-06T21:10:36.513656Z"
    }
   },
   "outputs": [
    {
     "data": {
      "text/plain": [
       "array([-0.,  0.,  0.,  0.,  0., -0.])"
      ]
     },
     "execution_count": 126,
     "metadata": {},
     "output_type": "execute_result"
    }
   ],
   "source": [
    "#### 29. How to round away from zero a float array ? (★☆☆)\n",
    "\n",
    "arr=np.array([-1.5,2.5,3.0,4.7,1.5,-1.2])\n",
    "rounded=np.round(arr,decimals=-1)\n",
    "rounded\n",
    "\n"
   ]
  },
  {
   "cell_type": "code",
   "execution_count": 129,
   "id": "85c65aab",
   "metadata": {
    "ExecuteTime": {
     "end_time": "2024-03-06T21:13:28.570060Z",
     "start_time": "2024-03-06T21:13:28.546385Z"
    }
   },
   "outputs": [
    {
     "data": {
      "text/plain": [
       "array([4, 5])"
      ]
     },
     "execution_count": 129,
     "metadata": {},
     "output_type": "execute_result"
    }
   ],
   "source": [
    "#### 30. How to find common values between two arrays? (★☆☆)\n",
    "arr1=np.array([1,2,3,4,5])\n",
    "arr2=np.array([6,7,8,4,5])\n",
    "x=np.intersect1d(arr1,arr2)\n",
    "x\n",
    "\n"
   ]
  },
  {
   "cell_type": "code",
   "execution_count": 133,
   "id": "163c69e3",
   "metadata": {
    "ExecuteTime": {
     "end_time": "2024-03-07T08:44:10.811123Z",
     "start_time": "2024-03-07T08:44:10.561483Z"
    }
   },
   "outputs": [
    {
     "data": {
      "text/plain": [
       "{'divide': 'ignore', 'over': 'ignore', 'under': 'ignore', 'invalid': 'ignore'}"
      ]
     },
     "execution_count": 133,
     "metadata": {},
     "output_type": "execute_result"
    }
   ],
   "source": [
    "#### 31. How to ignore all numpy warnings (not recommended)? (★☆☆)\n",
    "np.seterr(all='ignore')\n"
   ]
  },
  {
   "cell_type": "code",
   "execution_count": 132,
   "id": "01422ed4",
   "metadata": {
    "ExecuteTime": {
     "end_time": "2024-03-07T08:44:01.749871Z",
     "start_time": "2024-03-07T08:44:01.733315Z"
    }
   },
   "outputs": [
    {
     "name": "stdout",
     "output_type": "stream",
     "text": [
      "Result: [inf inf]\n"
     ]
    }
   ],
   "source": []
  },
  {
   "cell_type": "code",
   "execution_count": 137,
   "id": "d9a2a77f",
   "metadata": {
    "ExecuteTime": {
     "end_time": "2024-03-07T08:46:51.425388Z",
     "start_time": "2024-03-07T08:46:51.404807Z"
    }
   },
   "outputs": [
    {
     "data": {
      "text/plain": [
       "False"
      ]
     },
     "execution_count": 137,
     "metadata": {},
     "output_type": "execute_result"
    }
   ],
   "source": [
    "#### 32. Is the following expressions true? (★☆☆)\n",
    "np.sqrt(-1) == np.emath.sqrt(-1)\n"
   ]
  },
  {
   "cell_type": "code",
   "execution_count": 145,
   "id": "b3ce480c",
   "metadata": {
    "ExecuteTime": {
     "end_time": "2024-03-07T08:58:58.669738Z",
     "start_time": "2024-03-07T08:58:58.648200Z"
    }
   },
   "outputs": [
    {
     "name": "stdout",
     "output_type": "stream",
     "text": [
      "Yesterday: 2024-03-06\n",
      "Today: 2024-03-07\n",
      "Tomorrow: 2024-03-08\n"
     ]
    }
   ],
   "source": [
    "#### 33. How to get the dates of yesterday, today and tomorrow? (★☆☆)\n",
    "today = np.datetime64('today', 'D')\n",
    "\n",
    "yesterday = today - np.timedelta64(1, 'D')\n",
    "\n",
    "tomorrow = today + np.timedelta64(1, 'D')\n",
    "\n",
    "print(\"Yesterday:\", yesterday)\n",
    "print(\"Today:\", today)\n",
    "print(\"Tomorrow:\", tomorrow)\n",
    "\n"
   ]
  },
  {
   "cell_type": "code",
   "execution_count": 169,
   "id": "128d73f2",
   "metadata": {
    "ExecuteTime": {
     "end_time": "2024-03-07T09:35:05.866745Z",
     "start_time": "2024-03-07T09:35:05.861322Z"
    }
   },
   "outputs": [
    {
     "name": "stdout",
     "output_type": "stream",
     "text": [
      " the dates corresponding to july 16  :\n",
      "['2016-07-01' '2016-07-02' '2016-07-03' '2016-07-04' '2016-07-05'\n",
      " '2016-07-06' '2016-07-07' '2016-07-08' '2016-07-09' '2016-07-10'\n",
      " '2016-07-11' '2016-07-12' '2016-07-13' '2016-07-14' '2016-07-15'\n",
      " '2016-07-16' '2016-07-17' '2016-07-18' '2016-07-19' '2016-07-20'\n",
      " '2016-07-21' '2016-07-22' '2016-07-23' '2016-07-24' '2016-07-25'\n",
      " '2016-07-26' '2016-07-27' '2016-07-28' '2016-07-29' '2016-07-30'\n",
      " '2016-07-31']\n"
     ]
    }
   ],
   "source": [
    "#### 34. How to get all the dates corresponding to the month of July 2016? (★★☆)\n",
    "s=np.datetime64('2016-07-01')\n",
    "e=np.datetime64('2016-08-01')\n",
    "dater=np.arange(s,e,dtype='datetime64[D]')\n",
    "july2016=dater[(dater>=s)&(dater<=e)]\n",
    "print(' the dates corresponding to july 16  :' )\n",
    "print(dater)"
   ]
  },
  {
   "cell_type": "code",
   "execution_count": 180,
   "id": "54156938",
   "metadata": {
    "ExecuteTime": {
     "end_time": "2024-03-07T10:03:20.507451Z",
     "start_time": "2024-03-07T10:03:20.502228Z"
    }
   },
   "outputs": [
    {
     "name": "stdout",
     "output_type": "stream",
     "text": [
      "Result: [3.5 4.  4.5]\n"
     ]
    }
   ],
   "source": [
    "#### 35. How to compute ((A+B)*(-A/2)) in place (without copy)? (★★☆)\n",
    "\n",
    "A = np.array([1.0, 2.0, 3.0])\n",
    "B = np.array([4.0, 5.0, 6.0])\n",
    "A *= -0.5           # Multiply A by -0.5 in place\n",
    "A += B             # Add B to the result in A\n",
    "\n",
    "print(\"Result:\", A)"
   ]
  },
  {
   "cell_type": "code",
   "execution_count": 187,
   "id": "6e86ff7c",
   "metadata": {
    "ExecuteTime": {
     "end_time": "2024-03-07T10:08:54.350718Z",
     "start_time": "2024-03-07T10:08:54.344480Z"
    }
   },
   "outputs": [
    {
     "name": "stdout",
     "output_type": "stream",
     "text": [
      "[4. 0. 0.]\n",
      "[4. 0. 0.]\n",
      "[4 0 0]\n",
      "[4 0 0]\n"
     ]
    }
   ],
   "source": [
    "#### 36. Extract the integer part of a random array of positive numbers using 4 different methods (★★☆)\n",
    "arr1=np.random.rand(3)*5\n",
    "rarr=np.floor(arr1)\n",
    "print(rarr)\n",
    "rarr2=np.trunc(arr1)\n",
    "print(rarr2)\n",
    "rarr3=arr1.astype(int)\n",
    "print(rarr3)\n",
    "rarr4=np.int16(arr1)\n",
    "print(rarr4)\n",
    "\n"
   ]
  },
  {
   "cell_type": "code",
   "execution_count": 193,
   "id": "048d534b",
   "metadata": {
    "ExecuteTime": {
     "end_time": "2024-03-07T10:12:43.644551Z",
     "start_time": "2024-03-07T10:12:43.640339Z"
    }
   },
   "outputs": [
    {
     "name": "stdout",
     "output_type": "stream",
     "text": [
      "[[0 1 2 3 4]\n",
      " [1 2 3 4 5]\n",
      " [2 3 4 5 6]\n",
      " [3 4 5 6 7]\n",
      " [4 5 6 7 8]]\n"
     ]
    }
   ],
   "source": [
    "#### 37. Create a 5x5 matrix with row values ranging from 0 to 4 (★★☆)\n",
    "matrix = np.arange(5).reshape(1, -1) + np.arange(5).reshape(-1, 1)\n",
    "print (matrix)"
   ]
  },
  {
   "cell_type": "code",
   "execution_count": 205,
   "id": "862234e9",
   "metadata": {
    "ExecuteTime": {
     "end_time": "2024-03-07T10:19:43.258642Z",
     "start_time": "2024-03-07T10:19:43.252721Z"
    }
   },
   "outputs": [
    {
     "data": {
      "text/plain": [
       "array([0, 1, 2, 3, 4, 5, 6, 7, 8, 9])"
      ]
     },
     "execution_count": 205,
     "metadata": {},
     "output_type": "execute_result"
    }
   ],
   "source": [
    "#### 38. Consider a generator function that generates 10 integers and use it to build an array (★☆☆)\n",
    "def generates() :\n",
    "    for i in range (10):\n",
    "        \n",
    "        yield i\n",
    "\n",
    "array = np.fromiter(generates(), dtype=int)\n",
    "array"
   ]
  },
  {
   "cell_type": "code",
   "execution_count": 206,
   "id": "6a9a1990",
   "metadata": {
    "ExecuteTime": {
     "end_time": "2024-03-07T10:22:30.234252Z",
     "start_time": "2024-03-07T10:22:30.228907Z"
    }
   },
   "outputs": [
    {
     "data": {
      "text/plain": [
       "array([0.09090909, 0.18181818, 0.27272727, 0.36363636, 0.45454545,\n",
       "       0.54545455, 0.63636364, 0.72727273, 0.81818182, 0.90909091])"
      ]
     },
     "execution_count": 206,
     "metadata": {},
     "output_type": "execute_result"
    }
   ],
   "source": [
    "#### 39. Create a vector of size 10 with values ranging from 0 to 1, both excluded (★★☆)\n",
    "vector = np.linspace(0, 1, 12)[1:-1]\n",
    "vector"
   ]
  },
  {
   "cell_type": "code",
   "execution_count": 209,
   "id": "9e820921",
   "metadata": {
    "ExecuteTime": {
     "end_time": "2024-03-07T10:25:12.396584Z",
     "start_time": "2024-03-07T10:25:12.390576Z"
    }
   },
   "outputs": [
    {
     "data": {
      "text/plain": [
       "array([0.19953075, 0.22385428, 0.2340155 , 0.28261279, 0.40240678,\n",
       "       0.56821838, 0.58873061, 0.60675449, 0.62630734, 0.85650639])"
      ]
     },
     "execution_count": 209,
     "metadata": {},
     "output_type": "execute_result"
    }
   ],
   "source": [
    "#### 40. Create a random vector of size 10 and sort it (★★☆)\n",
    "ve=np.random.rand(10)\n",
    "ve.sort(axis=-1)\n",
    "ve"
   ]
  },
  {
   "cell_type": "code",
   "execution_count": 216,
   "id": "6e4c4fbc",
   "metadata": {
    "ExecuteTime": {
     "end_time": "2024-03-07T10:29:45.245958Z",
     "start_time": "2024-03-07T10:29:45.240080Z"
    }
   },
   "outputs": [
    {
     "data": {
      "text/plain": [
       "21"
      ]
     },
     "execution_count": 216,
     "metadata": {},
     "output_type": "execute_result"
    }
   ],
   "source": [
    "#### 41. How to sum a small array faster than np.sum? (★★☆)\n",
    "arr=np.array([1,2,3,4,5,6])\n",
    "res=sum(arr)\n",
    "res"
   ]
  },
  {
   "cell_type": "code",
   "execution_count": 219,
   "id": "9b284be4",
   "metadata": {
    "ExecuteTime": {
     "end_time": "2024-03-07T10:33:39.057068Z",
     "start_time": "2024-03-07T10:33:39.050989Z"
    }
   },
   "outputs": [
    {
     "name": "stdout",
     "output_type": "stream",
     "text": [
      "true\n"
     ]
    }
   ],
   "source": [
    "#### 42. Consider two random array A and B, check if they are equal (★★☆)\n",
    "arr1=np.array([1,2,3,4,5,6])\n",
    "arr2=np.array([1,2,3,4,5,6])\n",
    "if (arr1.all()==arr2.all()):\n",
    "      print('true')\n",
    "else:\n",
    "    print('false')\n",
    "\n",
    "\n"
   ]
  },
  {
   "cell_type": "code",
   "execution_count": 220,
   "id": "ef29a231",
   "metadata": {
    "ExecuteTime": {
     "end_time": "2024-03-07T10:36:46.605806Z",
     "start_time": "2024-03-07T10:36:46.601550Z"
    }
   },
   "outputs": [
    {
     "name": "stdout",
     "output_type": "stream",
     "text": [
      "Array: [1 2 3 4 5]\n"
     ]
    }
   ],
   "source": [
    "#### 43. Make an array immutable (read-only) (★★☆)\n",
    "arr = np.array([1, 2, 3, 4, 5])\n",
    "arr.flags.writeable = False\n",
    "print(\"Array:\", arr)"
   ]
  },
  {
   "cell_type": "code",
   "execution_count": 224,
   "id": "160e19b9",
   "metadata": {
    "ExecuteTime": {
     "end_time": "2024-03-07T10:52:45.710394Z",
     "start_time": "2024-03-07T10:52:45.683989Z"
    }
   },
   "outputs": [
    {
     "name": "stdout",
     "output_type": "stream",
     "text": [
      "[[0.3049289  0.12231346]\n",
      " [0.24802411 0.37945102]\n",
      " [0.4443834  0.77862098]\n",
      " [0.72362641 0.77443801]\n",
      " [0.01680349 0.11771515]\n",
      " [0.49962981 0.12270687]\n",
      " [0.10810013 0.25483658]\n",
      " [0.84859297 0.95021455]\n",
      " [0.11309157 0.57982555]\n",
      " [0.55673441 0.35275393]]\n",
      "after polar [[0.32854561 0.38147261]\n",
      " [0.45332001 0.99186695]\n",
      " [0.89650836 1.05217597]\n",
      " [1.05990066 0.81930334]\n",
      " [0.11890843 1.42900713]\n",
      " [0.51447733 0.24082904]\n",
      " [0.2768164  1.16960863]\n",
      " [1.27397713 0.84183203]\n",
      " [0.59075153 1.37817053]\n",
      " [0.65908159 0.56476868]]\n"
     ]
    }
   ],
   "source": [
    "#### 44. Consider a random 10x2 matrix representing cartesian coordinates, convert them to polar coordinates (★★☆)\n",
    "arr=np.random.rand(10,2)\n",
    "print(arr)\n",
    "x=arr[:,0]\n",
    "y=arr[:,1]\n",
    "r=np.sqrt(x**2+y**2)\n",
    "t=np.arctan2(y,x)\n",
    "polar_coordinates = np.column_stack((r, t))\n",
    "print(\"after polar\",polar_coordinates)"
   ]
  },
  {
   "cell_type": "code",
   "execution_count": 236,
   "id": "2a75696f",
   "metadata": {
    "ExecuteTime": {
     "end_time": "2024-03-07T11:00:17.390963Z",
     "start_time": "2024-03-07T11:00:17.377169Z"
    }
   },
   "outputs": [
    {
     "name": "stdout",
     "output_type": "stream",
     "text": [
      "maximum value replaced by 0:\n",
      "[0.65134337 0.55281761 0.44245459 0.33330573 0.12807583 0.\n",
      " 0.84020568 0.14220798 0.84868583 0.34534243]\n"
     ]
    }
   ],
   "source": [
    "#### 45. Create random vector of size 10 and replace the maximum value by 0 (★★☆)\n",
    "ve=np.random.rand(10)\n",
    "maxx=np.argmax(ve)\n",
    "ve[maxx]=0\n",
    "print( 'maximum value replaced by 0:')\n",
    "print (ve)"
   ]
  },
  {
   "cell_type": "code",
   "execution_count": 238,
   "id": "7284e403",
   "metadata": {
    "ExecuteTime": {
     "end_time": "2024-03-07T11:11:35.124422Z",
     "start_time": "2024-03-07T11:11:34.996282Z"
    }
   },
   "outputs": [
    {
     "name": "stdout",
     "output_type": "stream",
     "text": [
      "Structured Array with 'x' and 'y' coordinates:\n",
      "[[(0.  , 0.  ) (0.25, 0.  ) (0.5 , 0.  ) (0.75, 0.  ) (1.  , 0.  )]\n",
      " [(0.  , 0.25) (0.25, 0.25) (0.5 , 0.25) (0.75, 0.25) (1.  , 0.25)]\n",
      " [(0.  , 0.5 ) (0.25, 0.5 ) (0.5 , 0.5 ) (0.75, 0.5 ) (1.  , 0.5 )]\n",
      " [(0.  , 0.75) (0.25, 0.75) (0.5 , 0.75) (0.75, 0.75) (1.  , 0.75)]\n",
      " [(0.  , 1.  ) (0.25, 1.  ) (0.5 , 1.  ) (0.75, 1.  ) (1.  , 1.  )]]\n"
     ]
    }
   ],
   "source": [
    "#### 46. Create a structured array with `x` and `y` coordinates covering the [0,1]x[0,1] area (★★☆)\n",
    "grid_size = 5 \n",
    "x_coordinates = np.linspace(0, 1, grid_size)\n",
    "y_coordinates = np.linspace(0, 1, grid_size)\n",
    "\n",
    "x_mesh, y_mesh = np.meshgrid(x_coordinates, y_coordinates)\n",
    "\n",
    "structured_array = np.zeros((grid_size, grid_size), dtype=[('x', float), ('y', float)])\n",
    "structured_array['x'] = x_mesh\n",
    "structured_array['y'] = y_mesh\n",
    "\n",
    "print(\"Structured Array with 'x' and 'y' coordinates:\")\n",
    "print(structured_array)"
   ]
  },
  {
   "cell_type": "code",
   "execution_count": 240,
   "id": "ee2836ea",
   "metadata": {
    "ExecuteTime": {
     "end_time": "2024-03-07T11:15:50.883094Z",
     "start_time": "2024-03-07T11:15:50.875737Z"
    }
   },
   "outputs": [
    {
     "data": {
      "text/plain": [
       "array([[-0.2       , -0.16666667, -0.14285714, -0.125     ],\n",
       "       [-0.25      , -0.2       , -0.16666667, -0.14285714],\n",
       "       [-0.33333333, -0.25      , -0.2       , -0.16666667],\n",
       "       [-0.5       , -0.33333333, -0.25      , -0.2       ]])"
      ]
     },
     "execution_count": 240,
     "metadata": {},
     "output_type": "execute_result"
    }
   ],
   "source": [
    "#### 47. Given two arrays, X and Y, construct the Cauchy matrix C (Cij =1/(xi - yj)) (★★☆)\n",
    "x=np.array([1,2,3,4])\n",
    "y=np.array([6,7,8,9])\n",
    "c=1/(x[:,np.newaxis]-y)\n",
    "c"
   ]
  },
  {
   "cell_type": "code",
   "execution_count": 241,
   "id": "1eaa13e6",
   "metadata": {
    "ExecuteTime": {
     "end_time": "2024-03-07T11:17:51.692830Z",
     "start_time": "2024-03-07T11:17:51.595527Z"
    }
   },
   "outputs": [
    {
     "name": "stdout",
     "output_type": "stream",
     "text": [
      "Integer types:\n",
      "    int8: min=-128, max=127\n",
      "   int16: min=-32768, max=32767\n",
      "   int32: min=-2147483648, max=2147483647\n",
      "   int64: min=-9223372036854775808, max=9223372036854775807\n",
      "   uint8: min=0, max=255\n",
      "  uint16: min=0, max=65535\n",
      "  uint32: min=0, max=4294967295\n",
      "  uint64: min=0, max=18446744073709551615\n"
     ]
    }
   ],
   "source": [
    "#### 48. Print the minimum and maximum representable value for each numpy scalar type (★★☆)\n",
    "integer_types = [np.int8, np.int16, np.int32, np.int64,\n",
    "                 np.uint8, np.uint16, np.uint32, np.uint64]\n",
    "\n",
    "print(\"Integer types:\")\n",
    "for dtype in integer_types:\n",
    "    info = np.iinfo(dtype)\n",
    "    print(f\"{dtype.__name__:>8}: min={info.min}, max={info.max}\")"
   ]
  },
  {
   "cell_type": "code",
   "execution_count": 1,
   "id": "129309ca",
   "metadata": {
    "ExecuteTime": {
     "end_time": "2024-03-10T12:20:37.187760Z",
     "start_time": "2024-03-10T12:20:37.176061Z"
    }
   },
   "outputs": [
    {
     "name": "stdout",
     "output_type": "stream",
     "text": [
      "1\n",
      "2\n",
      "3\n",
      "4\n",
      "5\n"
     ]
    }
   ],
   "source": [
    "#### 49. How to print all the values of an array? (★★☆)\n",
    "array = [1, 2, 3, 4, 5]\n",
    "for value in array:\n",
    "    print(value)"
   ]
  },
  {
   "cell_type": "code",
   "execution_count": 2,
   "id": "9ffa508a",
   "metadata": {
    "ExecuteTime": {
     "end_time": "2024-03-10T12:22:06.902977Z",
     "start_time": "2024-03-10T12:22:06.890378Z"
    }
   },
   "outputs": [
    {
     "name": "stdout",
     "output_type": "stream",
     "text": [
      "Closest value to 6 in the vector is: 5\n"
     ]
    }
   ],
   "source": [
    "#### 50. How to find the closest value (to a given scalar) in a vector? (★★☆)\n",
    "import numpy as np\n",
    "\n",
    "def find_closest_value(vector, scalar):\n",
    "    array = np.array(vector)\n",
    "    closest_value = array[np.argmin(np.abs(array - scalar))]\n",
    "    return closest_value\n",
    "\n",
    "# Example usage:\n",
    "vector = [1, 3, 5, 7, 9]\n",
    "scalar = 6\n",
    "closest = find_closest_value(vector, scalar)\n",
    "print(\"Closest value to\", scalar, \"in the vector is:\", closest)\n"
   ]
  },
  {
   "cell_type": "code",
   "execution_count": null,
   "id": "9e89ce77",
   "metadata": {},
   "outputs": [],
   "source": []
  }
 ],
 "metadata": {
  "kernelspec": {
   "display_name": "Python 3 (ipykernel)",
   "language": "python",
   "name": "python3"
  },
  "language_info": {
   "codemirror_mode": {
    "name": "ipython",
    "version": 3
   },
   "file_extension": ".py",
   "mimetype": "text/x-python",
   "name": "python",
   "nbconvert_exporter": "python",
   "pygments_lexer": "ipython3",
   "version": "3.11.5"
  },
  "nbTranslate": {
   "displayLangs": [
    "*"
   ],
   "hotkey": "alt-t",
   "langInMainMenu": true,
   "sourceLang": "en",
   "targetLang": "fr",
   "useGoogleTranslate": true
  },
  "toc": {
   "base_numbering": 1,
   "nav_menu": {},
   "number_sections": true,
   "sideBar": true,
   "skip_h1_title": false,
   "title_cell": "Table of Contents",
   "title_sidebar": "Contents",
   "toc_cell": false,
   "toc_position": {},
   "toc_section_display": true,
   "toc_window_display": false
  },
  "varInspector": {
   "cols": {
    "lenName": 16,
    "lenType": 16,
    "lenVar": 40
   },
   "kernels_config": {
    "python": {
     "delete_cmd_postfix": "",
     "delete_cmd_prefix": "del ",
     "library": "var_list.py",
     "varRefreshCmd": "print(var_dic_list())"
    },
    "r": {
     "delete_cmd_postfix": ") ",
     "delete_cmd_prefix": "rm(",
     "library": "var_list.r",
     "varRefreshCmd": "cat(var_dic_list()) "
    }
   },
   "types_to_exclude": [
    "module",
    "function",
    "builtin_function_or_method",
    "instance",
    "_Feature"
   ],
   "window_display": false
  }
 },
 "nbformat": 4,
 "nbformat_minor": 5
}
